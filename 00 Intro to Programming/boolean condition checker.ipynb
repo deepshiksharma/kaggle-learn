{
 "cells": [
  {
   "cell_type": "markdown",
   "id": "9baff2de",
   "metadata": {},
   "source": [
    "<font size = \"6\"> Intro to Programming <br>\n",
    "<font size = \"5\"> <a href = \"https://www.kaggle.com/learn/intro-to-programming\">Kaggle</a>\n",
    "<a href=\"https://www.kaggle.com/code/alexisbcook/data-types\">Data Types</a> Exercise </font>"
   ]
  },
  {
   "cell_type": "markdown",
   "id": "9a1814e5",
   "metadata": {},
   "source": [
    "<font size = \"4\">\n",
    "Question 5 <br>\n",
    "\n",
    "You own an online shop where you sell rings with custom engravings.  You offer both gold plated and solid gold rings.\n",
    "- Gold plated rings have a base cost of \\\\$50, and you charge \\\\$7 per engraved unit.  \n",
    "- Solid gold rings have a base cost of \\\\$100, and you charge \\\\$10 per engraved unit.\n",
    "- Spaces and punctuation are counted as engraved units.\n",
    "\n",
    "Write a function <font size = \"5\">`cost_of_project()`<font size = \"4\"> that takes two arguments:\n",
    "- <font size = \"5\">`engraving`<font size = \"4\"> - a Python string with the text of the engraving\n",
    "- <font size = \"5\">`solid_gold`<font size = \"4\"> - a Boolean that indicates whether the ring is solid gold\n",
    "\n",
    "It should return the cost of the project. </font>"
   ]
  },
  {
   "cell_type": "markdown",
   "id": "c19e15c1",
   "metadata": {},
   "source": [
    "<font size = \"5\"> `def cost_of_project(engraving, solid_gold):` <br>\n",
    "    `cost = ____` <br>\n",
    "    `return cost` </font>"
   ]
  },
  {
   "cell_type": "markdown",
   "id": "97de63b4",
   "metadata": {},
   "source": [
    "<font size = \"4\"> There are two options - either the project uses solid gold or does not. With this in mind, you can structure your solution like this: <br>\n",
    "<font size = \"5\">`cost = solid_gold * ____ + (not_solid_gold) * ____`<font size = \"4\"> <br>\n",
    "You need to figure out how to fill in the blanks. Also, remember that: <br>\n",
    "\n",
    "<font size = \"4\">If <font size = \"5\">`solid_gold = True`<font size = \"4\">, then <font size = \"5\">`(not solid_gold) = False`<font size = \"4\">, \n",
    "and if <font size = \"5\">`solid_gold = False`<font size = \"4\">, then <font size = \"5\">`(not solid_gold) = True`<font size = \"4\">. <br>\n",
    "Multiplying an integer by <font size = \"5\">`True`<font size = \"4\"> is equivalent to multiplying it by 1, and multiplying an integer by <font size = \"5\">`False`<font size = \"4\"> is equivalent to multiplying it by 0. </font>"
   ]
  },
  {
   "cell_type": "code",
   "execution_count": 1,
   "id": "62d120af",
   "metadata": {},
   "outputs": [],
   "source": [
    "def cost_of_project(engraving, solid_gold):\n",
    "    cost = solid_gold * (100 + 10 * len(engraving)) + (not solid_gold) * (50 + 7 * len(engraving))\n",
    "    return cost"
   ]
  },
  {
   "cell_type": "code",
   "execution_count": 2,
   "id": "6ffa89f6",
   "metadata": {
    "scrolled": true
   },
   "outputs": [
    {
     "name": "stdout",
     "output_type": "stream",
     "text": [
      "240\n",
      "141\n"
     ]
    }
   ],
   "source": [
    "print(cost_of_project('Charlie+Denver', True))\n",
    "print(cost_of_project('Charlie+Delta', False))"
   ]
  }
 ],
 "metadata": {
  "kernelspec": {
   "display_name": "Python 3 (ipykernel)",
   "language": "python",
   "name": "python3"
  },
  "language_info": {
   "codemirror_mode": {
    "name": "ipython",
    "version": 3
   },
   "file_extension": ".py",
   "mimetype": "text/x-python",
   "name": "python",
   "nbconvert_exporter": "python",
   "pygments_lexer": "ipython3",
   "version": "3.10.10"
  }
 },
 "nbformat": 4,
 "nbformat_minor": 5
}
