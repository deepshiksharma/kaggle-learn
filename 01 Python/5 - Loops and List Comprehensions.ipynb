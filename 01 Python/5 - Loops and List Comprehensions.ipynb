{
 "cells": [
  {
   "cell_type": "markdown",
   "id": "398f50db",
   "metadata": {},
   "source": [
    "<font size = \"6\"> <a href = \"https://www.kaggle.com/code/colinmorris/loops-and-list-comprehensions\">Loops and List Comprehensions</a> </font>"
   ]
  },
  {
   "cell_type": "markdown",
   "id": "5735d1f7",
   "metadata": {},
   "source": [
    "<font size = \"6\">`for`<font size = \"5\"> loop </font>"
   ]
  },
  {
   "cell_type": "code",
   "execution_count": 1,
   "id": "eb99351e",
   "metadata": {},
   "outputs": [
    {
     "name": "stdout",
     "output_type": "stream",
     "text": [
      "Mercury Venus Earth Mars Jupyter Saturn Uranus Neptune Pluto "
     ]
    }
   ],
   "source": [
    "planets = ['Mercury', 'Venus', 'Earth', 'Mars', 'Jupyter', 'Saturn', 'Uranus', 'Neptune', 'Pluto']\n",
    "\n",
    "for x in planets:\n",
    "    # end = ' ' to print all values on the same line\n",
    "    print(x, end = ' ')"
   ]
  },
  {
   "cell_type": "code",
   "execution_count": 2,
   "id": "7a257542",
   "metadata": {},
   "outputs": [
    {
     "name": "stdout",
     "output_type": "stream",
     "text": [
      "15000\n"
     ]
    }
   ],
   "source": [
    "numbers = [5, 10, 15, 20]\n",
    "product = 1\n",
    "\n",
    "for  x in numbers:\n",
    "    product = product * x\n",
    "\n",
    "print(product)"
   ]
  },
  {
   "cell_type": "markdown",
   "id": "9a3297e7",
   "metadata": {},
   "source": [
    "<font size = \"5\">`range()`<font size = \"4\"> is a function that returns a sequence of numbers </font>"
   ]
  },
  {
   "cell_type": "markdown",
   "id": "586eafac",
   "metadata": {},
   "source": [
    "<font size = \"4\"> to repeat an action 5 times : </font>"
   ]
  },
  {
   "cell_type": "code",
   "execution_count": 3,
   "id": "7abdd475",
   "metadata": {},
   "outputs": [
    {
     "name": "stdout",
     "output_type": "stream",
     "text": [
      "box!\n",
      "box!\n",
      "box!\n",
      "box!\n",
      "box!\n"
     ]
    }
   ],
   "source": [
    "for x in range(5):\n",
    "    print('box!')"
   ]
  },
  {
   "cell_type": "markdown",
   "id": "a3f0da9f",
   "metadata": {},
   "source": [
    "<font size = \"4\"> to print numbers in a range : </font>"
   ]
  },
  {
   "cell_type": "code",
   "execution_count": 4,
   "id": "cf547d1b",
   "metadata": {},
   "outputs": [
    {
     "name": "stdout",
     "output_type": "stream",
     "text": [
      "0 1 2 3 4 "
     ]
    }
   ],
   "source": [
    "for x in range(0, 5):\n",
    "    print(x, end = ' ')"
   ]
  },
  {
   "cell_type": "markdown",
   "id": "f2c00d29",
   "metadata": {},
   "source": [
    "<font size = \"6\">`while`<font size = \"5\"> loop </font>"
   ]
  },
  {
   "cell_type": "code",
   "execution_count": 5,
   "id": "5b961861",
   "metadata": {},
   "outputs": [
    {
     "name": "stdout",
     "output_type": "stream",
     "text": [
      "0 1 2 3 4 5 6 7 8 9 10 "
     ]
    }
   ],
   "source": [
    "i = 0\n",
    "\n",
    "while (i < 11):\n",
    "    print(i, end = ' ')\n",
    "    i += 1"
   ]
  },
  {
   "cell_type": "markdown",
   "id": "e032a9b4",
   "metadata": {},
   "source": [
    "<font size = \"5\"> <b> List Comprehensions </b> </font>"
   ]
  },
  {
   "cell_type": "code",
   "execution_count": 6,
   "id": "a2eeb544",
   "metadata": {},
   "outputs": [
    {
     "data": {
      "text/plain": [
       "[0, 1, 4, 9, 16, 25, 36, 49, 64, 81, 100]"
      ]
     },
     "execution_count": 6,
     "metadata": {},
     "output_type": "execute_result"
    }
   ],
   "source": [
    "squares = [n**2 for n in range(11)]\n",
    "squares"
   ]
  },
  {
   "cell_type": "code",
   "execution_count": 7,
   "id": "2619f75e",
   "metadata": {},
   "outputs": [
    {
     "data": {
      "text/plain": [
       "[0, 1, 4, 9, 16]"
      ]
     },
     "execution_count": 7,
     "metadata": {},
     "output_type": "execute_result"
    }
   ],
   "source": [
    "# list comphrehension with if condition\n",
    "sq_less_than_20 = [x for x in squares if x < 20]\n",
    "sq_less_than_20"
   ]
  },
  {
   "cell_type": "code",
   "execution_count": 8,
   "id": "b81a0086",
   "metadata": {},
   "outputs": [
    {
     "data": {
      "text/plain": [
       "['Mercury', 'Venus', 'Earth', 'Mars']"
      ]
     },
     "execution_count": 8,
     "metadata": {},
     "output_type": "execute_result"
    }
   ],
   "source": [
    "inner_planets = [\n",
    "    \n",
    "    # inner is the loop counter variable\n",
    "    inner\n",
    "    \n",
    "    for inner in planets\n",
    "    \n",
    "    if planets.index(inner) < 4\n",
    "]\n",
    "\n",
    "inner_planets"
   ]
  },
  {
   "cell_type": "code",
   "execution_count": 9,
   "id": "a519e675",
   "metadata": {},
   "outputs": [
    {
     "data": {
      "text/plain": [
       "['MERCURY!', 'VENUS!', 'EARTH!', 'MARS!']"
      ]
     },
     "execution_count": 9,
     "metadata": {},
     "output_type": "execute_result"
    }
   ],
   "source": [
    "inner_planets_caps = [\n",
    "    \n",
    "    inner.upper() + '!'\n",
    "    \n",
    "    for inner in planets\n",
    "    \n",
    "    if planets.index(inner) < 4\n",
    "]\n",
    "\n",
    "inner_planets_caps"
   ]
  },
  {
   "cell_type": "markdown",
   "id": "651de267",
   "metadata": {},
   "source": [
    "<font size = \"5\"> <b>Functions that use list comprehension to count the number of negatives in a list</b> </font>"
   ]
  },
  {
   "cell_type": "markdown",
   "id": "b2a20912",
   "metadata": {},
   "source": [
    "<font size = \"4\"> This function returns the length of a list which contains just the negative numbers from input list : </font>"
   ]
  },
  {
   "cell_type": "code",
   "execution_count": 10,
   "id": "fae30f92",
   "metadata": {},
   "outputs": [],
   "source": [
    "def count_neg_function1(N):\n",
    "    return len([\n",
    "        x\n",
    "        \n",
    "        for x in N\n",
    "        \n",
    "        if x < 0\n",
    "    ])"
   ]
  },
  {
   "cell_type": "code",
   "execution_count": 11,
   "id": "b197aa29",
   "metadata": {},
   "outputs": [
    {
     "data": {
      "text/plain": [
       "0"
      ]
     },
     "execution_count": 11,
     "metadata": {},
     "output_type": "execute_result"
    }
   ],
   "source": [
    "A = [1, 2, 3, 4, 5, 6]\n",
    "count_neg_function1(A)"
   ]
  },
  {
   "cell_type": "code",
   "execution_count": 12,
   "id": "8618d88f",
   "metadata": {},
   "outputs": [
    {
     "data": {
      "text/plain": [
       "3"
      ]
     },
     "execution_count": 12,
     "metadata": {},
     "output_type": "execute_result"
    }
   ],
   "source": [
    "B = [1, -2, 3, -4, 5, -6]\n",
    "count_neg_function1(B)"
   ]
  },
  {
   "cell_type": "markdown",
   "id": "3e9c5059",
   "metadata": {},
   "source": [
    "<font size = \"4\"> In this function, a list stores boolean values on whether the corresponding element in input list is negative or not.<br> This function returns the sum of boolean values in that list : </font>"
   ]
  },
  {
   "cell_type": "code",
   "execution_count": 13,
   "id": "62aa12b9",
   "metadata": {},
   "outputs": [],
   "source": [
    "def count_neg_function2(N):\n",
    "    return sum([\n",
    "        x < 0\n",
    "        \n",
    "        for x in N\n",
    "    ])"
   ]
  },
  {
   "cell_type": "code",
   "execution_count": 14,
   "id": "9fdbe506",
   "metadata": {},
   "outputs": [
    {
     "data": {
      "text/plain": [
       "0"
      ]
     },
     "execution_count": 14,
     "metadata": {},
     "output_type": "execute_result"
    }
   ],
   "source": [
    "A = [1, 2, 3, 4, 5, 6]\n",
    "count_neg_function2(A)"
   ]
  },
  {
   "cell_type": "code",
   "execution_count": 15,
   "id": "eb7df38f",
   "metadata": {},
   "outputs": [
    {
     "data": {
      "text/plain": [
       "3"
      ]
     },
     "execution_count": 15,
     "metadata": {},
     "output_type": "execute_result"
    }
   ],
   "source": [
    "B = [1, -2, 3, -4, 5, -6]\n",
    "count_neg_function2(B)"
   ]
  }
 ],
 "metadata": {
  "kernelspec": {
   "display_name": "Python 3 (ipykernel)",
   "language": "python",
   "name": "python3"
  },
  "language_info": {
   "codemirror_mode": {
    "name": "ipython",
    "version": 3
   },
   "file_extension": ".py",
   "mimetype": "text/x-python",
   "name": "python",
   "nbconvert_exporter": "python",
   "pygments_lexer": "ipython3",
   "version": "3.10.10"
  }
 },
 "nbformat": 4,
 "nbformat_minor": 5
}
