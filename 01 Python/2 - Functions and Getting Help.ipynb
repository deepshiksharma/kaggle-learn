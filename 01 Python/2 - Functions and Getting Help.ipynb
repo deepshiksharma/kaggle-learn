{
 "cells": [
  {
   "cell_type": "markdown",
   "id": "762bcdec",
   "metadata": {},
   "source": [
    "<font size = \"6\"> <a href = \"https://www.kaggle.com/code/colinmorris/functions-and-getting-help\">Functions and Getting Help</a> </font>"
   ]
  },
  {
   "cell_type": "markdown",
   "id": "5530b6ca",
   "metadata": {},
   "source": [
    "<font size = \"4\"> the <font size = \"5\">`help()`<font size = \"4\"> function prints helps for in-built functions </font>"
   ]
  },
  {
   "cell_type": "code",
   "execution_count": 1,
   "id": "35e7790f",
   "metadata": {
    "scrolled": true
   },
   "outputs": [
    {
     "name": "stdout",
     "output_type": "stream",
     "text": [
      "Help on built-in function print in module builtins:\n",
      "\n",
      "print(...)\n",
      "    print(value, ..., sep=' ', end='\\n', file=sys.stdout, flush=False)\n",
      "    \n",
      "    Prints the values to a stream, or to sys.stdout by default.\n",
      "    Optional keyword arguments:\n",
      "    file:  a file-like object (stream); defaults to the current sys.stdout.\n",
      "    sep:   string inserted between values, default a space.\n",
      "    end:   string appended after the last value, default a newline.\n",
      "    flush: whether to forcibly flush the stream.\n",
      "\n"
     ]
    }
   ],
   "source": [
    "help(print)"
   ]
  },
  {
   "cell_type": "code",
   "execution_count": 2,
   "id": "dbaa0c2d",
   "metadata": {},
   "outputs": [
    {
     "name": "stdout",
     "output_type": "stream",
     "text": [
      "Help on built-in function max in module builtins:\n",
      "\n",
      "max(...)\n",
      "    max(iterable, *[, default=obj, key=func]) -> value\n",
      "    max(arg1, arg2, *args, *[, key=func]) -> value\n",
      "    \n",
      "    With a single iterable argument, return its biggest item. The\n",
      "    default keyword-only argument specifies an object to return if\n",
      "    the provided iterable is empty.\n",
      "    With two or more arguments, return the largest argument.\n",
      "\n",
      "Help on built-in function min in module builtins:\n",
      "\n",
      "min(...)\n",
      "    min(iterable, *[, default=obj, key=func]) -> value\n",
      "    min(arg1, arg2, *args, *[, key=func]) -> value\n",
      "    \n",
      "    With a single iterable argument, return its smallest item. The\n",
      "    default keyword-only argument specifies an object to return if\n",
      "    the provided iterable is empty.\n",
      "    With two or more arguments, return the smallest argument.\n",
      "\n"
     ]
    }
   ],
   "source": [
    "help(max)\n",
    "help(min)"
   ]
  },
  {
   "cell_type": "markdown",
   "id": "5159246e",
   "metadata": {},
   "source": [
    "<font size = \"5\">`docstring`<font size = \"4\"> is the description i write for my own functions. <br>\n",
    "The docstring is enclosed within triple double-quotes <font size = \"5\">`\"\"\"`<font size = \"4\">. <br>\n",
    "The docstring will be printed when help is called on the functions written by me. </font>"
   ]
  },
  {
   "cell_type": "code",
   "execution_count": 3,
   "id": "3dd0098f",
   "metadata": {},
   "outputs": [],
   "source": [
    "def add(a, b):\n",
    "    \"\"\" DOCSTRING for add\n",
    "    adds two numbers \n",
    "    >>> add(5, 2)\n",
    "    7\n",
    "    \"\"\"\n",
    "    return (a + b)"
   ]
  },
  {
   "cell_type": "code",
   "execution_count": 4,
   "id": "397a6759",
   "metadata": {},
   "outputs": [
    {
     "name": "stdout",
     "output_type": "stream",
     "text": [
      "Help on function add in module __main__:\n",
      "\n",
      "add(a, b)\n",
      "    DOCSTRING for add\n",
      "    adds two numbers \n",
      "    >>> add(5, 2)\n",
      "    7\n",
      "\n"
     ]
    }
   ],
   "source": [
    "help(add)"
   ]
  },
  {
   "cell_type": "code",
   "execution_count": 5,
   "id": "5e7ceb35",
   "metadata": {},
   "outputs": [
    {
     "data": {
      "text/plain": [
       "7"
      ]
     },
     "execution_count": 5,
     "metadata": {},
     "output_type": "execute_result"
    }
   ],
   "source": [
    "add(5, 2)"
   ]
  },
  {
   "cell_type": "markdown",
   "id": "421839c9",
   "metadata": {},
   "source": [
    "<font size = \"5\">`sep`<font size = \"4\"> argument in the print function specifies with what the other arguments in print() are separated by. <br>\n",
    "If not specified, <font size = \"5\">`sep`<font size = \"4\"> has a default value of <font size = \"5\">`' '`<font size = \"4\"> \n",
    "(a single space). </font>"
   ]
  },
  {
   "cell_type": "code",
   "execution_count": 6,
   "id": "4a2e1c83",
   "metadata": {},
   "outputs": [
    {
     "name": "stdout",
     "output_type": "stream",
     "text": [
      "27 2 2023\n",
      "2722023\n",
      "27-2-2023\n"
     ]
    }
   ],
   "source": [
    "print(27, 2, 2023)\n",
    "print(27, 2, 2023, sep = '')\n",
    "print(27, 2, 2023, sep = '-')"
   ]
  },
  {
   "cell_type": "code",
   "execution_count": 7,
   "id": "2e532a8a",
   "metadata": {},
   "outputs": [
    {
     "name": "stdout",
     "output_type": "stream",
     "text": [
      "1 < 2 < 3\n"
     ]
    }
   ],
   "source": [
    "print(1, 2, 3, sep = ' < ')"
   ]
  },
  {
   "cell_type": "markdown",
   "id": "e00060d5",
   "metadata": {},
   "source": [
    "<br> <font size = \"5\"> <b> <u>Default arguments</u> </b> </font>"
   ]
  },
  {
   "cell_type": "markdown",
   "id": "e49dc5eb",
   "metadata": {},
   "source": [
    "<font size = \"4\"> If only one argument is passed, function <font size = \"5\">`remainder_checker`<font size = \"4\"> returns the remainder of the argument when divided by <font size = \"5\">`2`<font size = \"4\">. <br> \n",
    "If a second argument is passed, then the function returns the remainder of the argument when divided by the second argument.</font>"
   ]
  },
  {
   "cell_type": "code",
   "execution_count": 8,
   "id": "0e871499",
   "metadata": {},
   "outputs": [],
   "source": [
    "def remainder_checker(a, n = 2):\n",
    "    return a % n"
   ]
  },
  {
   "cell_type": "code",
   "execution_count": 9,
   "id": "db7c0349",
   "metadata": {},
   "outputs": [
    {
     "name": "stdout",
     "output_type": "stream",
     "text": [
      "0\n",
      "1\n"
     ]
    }
   ],
   "source": [
    "print(remainder_checker(10))\n",
    "print(remainder_checker(21))"
   ]
  },
  {
   "cell_type": "code",
   "execution_count": 10,
   "id": "48a1fdef",
   "metadata": {},
   "outputs": [
    {
     "name": "stdout",
     "output_type": "stream",
     "text": [
      "1\n",
      "0\n",
      "2\n"
     ]
    }
   ],
   "source": [
    "print(remainder_checker(10, 3))\n",
    "print(remainder_checker(21, 3))\n",
    "print(remainder_checker(23, 3))"
   ]
  },
  {
   "cell_type": "code",
   "execution_count": 11,
   "id": "50225bac",
   "metadata": {},
   "outputs": [
    {
     "data": {
      "text/plain": [
       "4"
      ]
     },
     "execution_count": 11,
     "metadata": {},
     "output_type": "execute_result"
    }
   ],
   "source": [
    "remainder_checker(24, 5)"
   ]
  }
 ],
 "metadata": {
  "kernelspec": {
   "display_name": "Python 3 (ipykernel)",
   "language": "python",
   "name": "python3"
  },
  "language_info": {
   "codemirror_mode": {
    "name": "ipython",
    "version": 3
   },
   "file_extension": ".py",
   "mimetype": "text/x-python",
   "name": "python",
   "nbconvert_exporter": "python",
   "pygments_lexer": "ipython3",
   "version": "3.10.10"
  }
 },
 "nbformat": 4,
 "nbformat_minor": 5
}
