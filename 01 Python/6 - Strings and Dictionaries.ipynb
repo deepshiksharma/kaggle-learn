{
 "cells": [
  {
   "cell_type": "markdown",
   "id": "9264aa79",
   "metadata": {},
   "source": [
    "<font size = \"6\"> <a href = \"https://www.kaggle.com/code/colinmorris/strings-and-dictionaries\">Strings and Dictionaries</a> </font>"
   ]
  },
  {
   "cell_type": "code",
   "execution_count": 1,
   "id": "d428eb22",
   "metadata": {},
   "outputs": [
    {
     "name": "stdout",
     "output_type": "stream",
     "text": [
      "Hello\n",
      "World\n",
      "!\n"
     ]
    }
   ],
   "source": [
    "print('Hello')\n",
    "print('World')\n",
    "print('!')"
   ]
  },
  {
   "cell_type": "code",
   "execution_count": 2,
   "id": "6d9a4e36",
   "metadata": {},
   "outputs": [
    {
     "name": "stdout",
     "output_type": "stream",
     "text": [
      "HelloWorld!\n"
     ]
    }
   ],
   "source": [
    "print('Hello', end='')\n",
    "print('World', end='')\n",
    "print('!')"
   ]
  },
  {
   "cell_type": "markdown",
   "id": "6e9ab327",
   "metadata": {},
   "source": [
    "<br> <font size = \"4\"> A string containing single quotes can be enclosed in double quotes. <br> Similarly, a string containing double quotes can be enclosed in single quotes. </font>"
   ]
  },
  {
   "cell_type": "code",
   "execution_count": 3,
   "id": "dcf2ab73",
   "metadata": {},
   "outputs": [],
   "source": [
    "print(\"Pluto's a planet\")\n",
    "print('My dog is named \"Pluto\"')"
   ]
  },
  {
   "cell_type": "markdown",
   "id": "0cd24396",
   "metadata": {},
   "source": [
    "<font size = \"5\"> Escape Sequences </font>"
   ]
  },
  {
   "cell_type": "code",
   "execution_count": 4,
   "id": "07acb2ea",
   "metadata": {},
   "outputs": [
    {
     "name": "stdout",
     "output_type": "stream",
     "text": [
      "a'b\n"
     ]
    }
   ],
   "source": [
    "print('a\\'b')"
   ]
  },
  {
   "cell_type": "code",
   "execution_count": 5,
   "id": "2202c1dd",
   "metadata": {},
   "outputs": [
    {
     "name": "stdout",
     "output_type": "stream",
     "text": [
      "a\"b\n"
     ]
    }
   ],
   "source": [
    "print('a\\\"b')"
   ]
  },
  {
   "cell_type": "code",
   "execution_count": 6,
   "id": "9fa792aa",
   "metadata": {},
   "outputs": [
    {
     "name": "stdout",
     "output_type": "stream",
     "text": [
      "a\\b\n"
     ]
    }
   ],
   "source": [
    "print('a\\\\b')"
   ]
  },
  {
   "cell_type": "code",
   "execution_count": 7,
   "id": "8f1bdb4c",
   "metadata": {},
   "outputs": [
    {
     "name": "stdout",
     "output_type": "stream",
     "text": [
      "a\n",
      "b\n"
     ]
    }
   ],
   "source": [
    "print('a\\nb')"
   ]
  },
  {
   "cell_type": "code",
   "execution_count": 8,
   "id": "6b0e206c",
   "metadata": {},
   "outputs": [
    {
     "name": "stdout",
     "output_type": "stream",
     "text": [
      "a\tb\n"
     ]
    }
   ],
   "source": [
    "print('a\\tb')"
   ]
  },
  {
   "cell_type": "markdown",
   "id": "20009ef7",
   "metadata": {},
   "source": [
    "<font size = \"5\"> Triple quote syntax for multiline strings </font>"
   ]
  },
  {
   "cell_type": "code",
   "execution_count": 9,
   "id": "d45e7d66",
   "metadata": {},
   "outputs": [
    {
     "name": "stdout",
     "output_type": "stream",
     "text": [
      "triple quotes\n",
      "for strings that span\n",
      "multiple lines\n"
     ]
    }
   ],
   "source": [
    "print('''triple quotes\n",
    "for strings that span\n",
    "multiple lines''')"
   ]
  },
  {
   "cell_type": "code",
   "execution_count": 10,
   "id": "3395fa78",
   "metadata": {
    "scrolled": true
   },
   "outputs": [
    {
     "name": "stdout",
     "output_type": "stream",
     "text": [
      "triple quotes\n",
      "for strings that span\n",
      "multiple lines\n"
     ]
    }
   ],
   "source": [
    "print(\"\"\"triple quotes\n",
    "for strings that span\n",
    "multiple lines\"\"\")"
   ]
  },
  {
   "cell_type": "markdown",
   "id": "7c44ce09",
   "metadata": {},
   "source": [
    "<br> <font size = \"4\"> Almost everything that can be done to a list, can also be done to a string. </font>"
   ]
  },
  {
   "cell_type": "code",
   "execution_count": 11,
   "id": "b747cb5c",
   "metadata": {},
   "outputs": [],
   "source": [
    "planet = 'Pluto'"
   ]
  },
  {
   "cell_type": "code",
   "execution_count": 12,
   "id": "e16db4c7",
   "metadata": {},
   "outputs": [
    {
     "data": {
      "text/plain": [
       "'P'"
      ]
     },
     "execution_count": 12,
     "metadata": {},
     "output_type": "execute_result"
    }
   ],
   "source": [
    "planet[0]"
   ]
  },
  {
   "cell_type": "code",
   "execution_count": 13,
   "id": "a4cacf42",
   "metadata": {},
   "outputs": [
    {
     "data": {
      "text/plain": [
       "'to'"
      ]
     },
     "execution_count": 13,
     "metadata": {},
     "output_type": "execute_result"
    }
   ],
   "source": [
    "# Slicing\n",
    "planet[-2:]"
   ]
  },
  {
   "cell_type": "code",
   "execution_count": 14,
   "id": "d82f1583",
   "metadata": {},
   "outputs": [
    {
     "data": {
      "text/plain": [
       "5"
      ]
     },
     "execution_count": 14,
     "metadata": {},
     "output_type": "execute_result"
    }
   ],
   "source": [
    "# Length\n",
    "len(planet)"
   ]
  },
  {
   "cell_type": "code",
   "execution_count": 15,
   "id": "a1b7e312",
   "metadata": {},
   "outputs": [
    {
     "data": {
      "text/plain": [
       "['$P', '$l', '$u', '$t', '$o']"
      ]
     },
     "execution_count": 15,
     "metadata": {},
     "output_type": "execute_result"
    }
   ],
   "source": [
    "# Strings can also be looped over\n",
    "['$'+i for i in planet]"
   ]
  },
  {
   "cell_type": "markdown",
   "id": "94796280",
   "metadata": {},
   "source": [
    "<font size = \"4\"> Strings are immutable. <br> Strings CANNOT be modified like lists. </font>"
   ]
  },
  {
   "cell_type": "code",
   "execution_count": 16,
   "id": "b290c111",
   "metadata": {},
   "outputs": [
    {
     "ename": "TypeError",
     "evalue": "'str' object does not support item assignment",
     "output_type": "error",
     "traceback": [
      "\u001b[1;31m---------------------------------------------------------------------------\u001b[0m",
      "\u001b[1;31mTypeError\u001b[0m                                 Traceback (most recent call last)",
      "Cell \u001b[1;32mIn[16], line 1\u001b[0m\n\u001b[1;32m----> 1\u001b[0m \u001b[43mplanet\u001b[49m\u001b[43m[\u001b[49m\u001b[38;5;241;43m2\u001b[39;49m\u001b[43m]\u001b[49m \u001b[38;5;241m=\u001b[39m \u001b[38;5;124m'\u001b[39m\u001b[38;5;124ma\u001b[39m\u001b[38;5;124m'\u001b[39m\n",
      "\u001b[1;31mTypeError\u001b[0m: 'str' object does not support item assignment"
     ]
    }
   ],
   "source": [
    "planet[2] = 'a'"
   ]
  },
  {
   "cell_type": "code",
   "execution_count": 17,
   "id": "2d973f7d",
   "metadata": {},
   "outputs": [
    {
     "ename": "AttributeError",
     "evalue": "'str' object has no attribute 'append'",
     "output_type": "error",
     "traceback": [
      "\u001b[1;31m---------------------------------------------------------------------------\u001b[0m",
      "\u001b[1;31mAttributeError\u001b[0m                            Traceback (most recent call last)",
      "Cell \u001b[1;32mIn[17], line 1\u001b[0m\n\u001b[1;32m----> 1\u001b[0m \u001b[43mplanet\u001b[49m\u001b[38;5;241;43m.\u001b[39;49m\u001b[43mappend\u001b[49m(\u001b[38;5;124m'\u001b[39m\u001b[38;5;124ms\u001b[39m\u001b[38;5;124m'\u001b[39m)\n",
      "\u001b[1;31mAttributeError\u001b[0m: 'str' object has no attribute 'append'"
     ]
    }
   ],
   "source": [
    "planet.append('s')"
   ]
  },
  {
   "cell_type": "markdown",
   "id": "da948f60",
   "metadata": {},
   "source": [
    "<font size = \"5\"> <b> <u>String Methods<u> </b> </font>"
   ]
  },
  {
   "cell_type": "code",
   "execution_count": 18,
   "id": "45ec4370",
   "metadata": {},
   "outputs": [
    {
     "data": {
      "text/plain": [
       "'BOX BOX BOX'"
      ]
     },
     "execution_count": 18,
     "metadata": {},
     "output_type": "execute_result"
    }
   ],
   "source": [
    "# All uppercase\n",
    "\n",
    "str1 = 'Box Box Box'\n",
    "str1.upper()"
   ]
  },
  {
   "cell_type": "code",
   "execution_count": 19,
   "id": "bffaa2d1",
   "metadata": {},
   "outputs": [
    {
     "data": {
      "text/plain": [
       "'box box box'"
      ]
     },
     "execution_count": 19,
     "metadata": {},
     "output_type": "execute_result"
    }
   ],
   "source": [
    "# All lowercase\n",
    "\n",
    "str1.lower()"
   ]
  },
  {
   "cell_type": "code",
   "execution_count": 20,
   "id": "a8c33d62",
   "metadata": {},
   "outputs": [
    {
     "data": {
      "text/plain": [
       "2"
      ]
     },
     "execution_count": 20,
     "metadata": {},
     "output_type": "execute_result"
    }
   ],
   "source": [
    "# Searching for the first index of a substring\n",
    "\n",
    "str2 = 'boxenstopp'\n",
    "str2.index('xen')"
   ]
  },
  {
   "cell_type": "code",
   "execution_count": 21,
   "id": "be5db86d",
   "metadata": {},
   "outputs": [
    {
     "data": {
      "text/plain": [
       "True"
      ]
     },
     "execution_count": 21,
     "metadata": {},
     "output_type": "execute_result"
    }
   ],
   "source": [
    "# String starts with\n",
    "\n",
    "str2.startswith('box')"
   ]
  },
  {
   "cell_type": "code",
   "execution_count": 22,
   "id": "43137e6e",
   "metadata": {},
   "outputs": [
    {
     "data": {
      "text/plain": [
       "False"
      ]
     },
     "execution_count": 22,
     "metadata": {},
     "output_type": "execute_result"
    }
   ],
   "source": [
    "str2.startswith('boxx')"
   ]
  },
  {
   "cell_type": "code",
   "execution_count": 23,
   "id": "875ad7aa",
   "metadata": {},
   "outputs": [
    {
     "data": {
      "text/plain": [
       "True"
      ]
     },
     "execution_count": 23,
     "metadata": {},
     "output_type": "execute_result"
    }
   ],
   "source": [
    "# String ends with\n",
    "\n",
    "str2.endswith('stopp')"
   ]
  },
  {
   "cell_type": "code",
   "execution_count": 24,
   "id": "21b9fed8",
   "metadata": {},
   "outputs": [
    {
     "data": {
      "text/plain": [
       "False"
      ]
     },
     "execution_count": 24,
     "metadata": {},
     "output_type": "execute_result"
    }
   ],
   "source": [
    "str2.endswith('xen')"
   ]
  },
  {
   "cell_type": "markdown",
   "id": "f6544b94",
   "metadata": {},
   "source": [
    "<font size = \"6\"> `split()` </font>"
   ]
  },
  {
   "cell_type": "markdown",
   "id": "1c993724",
   "metadata": {},
   "source": [
    "<font size = \"5\">`split()`<font size = \"4\"> turns a string into a list of smaller substrings, breaking them on whitespace by default. </font>"
   ]
  },
  {
   "cell_type": "code",
   "execution_count": 25,
   "id": "631d3a43",
   "metadata": {},
   "outputs": [
    {
     "data": {
      "text/plain": [
       "['box1', 'box2', 'box3']"
      ]
     },
     "execution_count": 25,
     "metadata": {},
     "output_type": "execute_result"
    }
   ],
   "source": [
    "str3 = 'box1 box2 box3'\n",
    "str3.split()"
   ]
  },
  {
   "cell_type": "markdown",
   "id": "4b6005b6",
   "metadata": {},
   "source": [
    "<font size = \"4\"> To split a string based on something other than a whitespace : </font>"
   ]
  },
  {
   "cell_type": "code",
   "execution_count": 26,
   "id": "2dae95a2",
   "metadata": {},
   "outputs": [
    {
     "data": {
      "text/plain": [
       "['23', '04', '2023']"
      ]
     },
     "execution_count": 26,
     "metadata": {},
     "output_type": "execute_result"
    }
   ],
   "source": [
    "date = '23/04/2023'\n",
    "date.split('/')"
   ]
  },
  {
   "cell_type": "code",
   "execution_count": 27,
   "id": "cb7a6cf8",
   "metadata": {},
   "outputs": [
    {
     "name": "stdout",
     "output_type": "stream",
     "text": [
      "23\n",
      "04\n",
      "2023\n"
     ]
    }
   ],
   "source": [
    "date, month, year = date.split('/')\n",
    "\n",
    "print(date)\n",
    "print(month)\n",
    "print(year)"
   ]
  },
  {
   "cell_type": "markdown",
   "id": "9ada771c",
   "metadata": {},
   "source": [
    "<font size = \"6\"> `join()` </font>"
   ]
  },
  {
   "cell_type": "markdown",
   "id": "0cc0921d",
   "metadata": {},
   "source": [
    "<font size = \"5\">`join()`<font size = \"4\"> joins together a list of strings, using the string it was called upon as a separator. </font>"
   ]
  },
  {
   "cell_type": "code",
   "execution_count": 28,
   "id": "85cb72b2",
   "metadata": {},
   "outputs": [
    {
     "data": {
      "text/plain": [
       "'2023-04-23'"
      ]
     },
     "execution_count": 28,
     "metadata": {},
     "output_type": "execute_result"
    }
   ],
   "source": [
    "'-'.join([year, month, date])"
   ]
  },
  {
   "cell_type": "code",
   "execution_count": 29,
   "id": "2f362409",
   "metadata": {},
   "outputs": [
    {
     "data": {
      "text/plain": [
       "'BOX1# BOX2# BOX3'"
      ]
     },
     "execution_count": 29,
     "metadata": {},
     "output_type": "execute_result"
    }
   ],
   "source": [
    "str4 = 'box1 box2 box3'\n",
    "\n",
    "str4 = str4.split()\n",
    "\n",
    "'# '.join([i.upper() for i in str4])"
   ]
  },
  {
   "cell_type": "markdown",
   "id": "1f7c2fb7",
   "metadata": {},
   "source": [
    "<font size = \"5\"> Building strings with <font size = \"6\">`.format()`</font>"
   ]
  },
  {
   "cell_type": "markdown",
   "id": "995e1f55",
   "metadata": {},
   "source": [
    "<font size = \"4\"> Strings are concatenated using the <font size = \"5\">`+`<font size = \"4\"> operator. </font>"
   ]
  },
  {
   "cell_type": "code",
   "execution_count": 30,
   "id": "ae1e67d0",
   "metadata": {},
   "outputs": [
    {
     "data": {
      "text/plain": [
       "'Pluto is the last planet'"
      ]
     },
     "execution_count": 30,
     "metadata": {},
     "output_type": "execute_result"
    }
   ],
   "source": [
    "planet = 'Pluto'\n",
    "planet + ' is the last planet'"
   ]
  },
  {
   "cell_type": "markdown",
   "id": "19c5b778",
   "metadata": {},
   "source": [
    "<font size = \"4\"> If you want to throw in any non-string objects, be sure to call <font size = \"5\">`str()`<font size = \"4\"> on the non-string object. </font>"
   ]
  },
  {
   "cell_type": "code",
   "execution_count": 31,
   "id": "187af9f4",
   "metadata": {},
   "outputs": [
    {
     "ename": "TypeError",
     "evalue": "can only concatenate str (not \"int\") to str",
     "output_type": "error",
     "traceback": [
      "\u001b[1;31m---------------------------------------------------------------------------\u001b[0m",
      "\u001b[1;31mTypeError\u001b[0m                                 Traceback (most recent call last)",
      "Cell \u001b[1;32mIn[31], line 2\u001b[0m\n\u001b[0;32m      1\u001b[0m position \u001b[38;5;241m=\u001b[39m \u001b[38;5;241m9\u001b[39m\n\u001b[1;32m----> 2\u001b[0m \u001b[43mplanet\u001b[49m\u001b[43m \u001b[49m\u001b[38;5;241;43m+\u001b[39;49m\u001b[43m \u001b[49m\u001b[38;5;124;43m'\u001b[39;49m\u001b[38;5;124;43m is the \u001b[39;49m\u001b[38;5;124;43m'\u001b[39;49m\u001b[43m \u001b[49m\u001b[38;5;241;43m+\u001b[39;49m\u001b[43m \u001b[49m\u001b[43mposition\u001b[49m \u001b[38;5;241m+\u001b[39m \u001b[38;5;124m'\u001b[39m\u001b[38;5;124mth planet\u001b[39m\u001b[38;5;124m'\u001b[39m\n",
      "\u001b[1;31mTypeError\u001b[0m: can only concatenate str (not \"int\") to str"
     ]
    }
   ],
   "source": [
    "position = 9\n",
    "planet + ' is the ' + position + 'th planet'"
   ]
  },
  {
   "cell_type": "code",
   "execution_count": 32,
   "id": "6d469a2d",
   "metadata": {},
   "outputs": [
    {
     "data": {
      "text/plain": [
       "'Pluto is the 9th planet'"
      ]
     },
     "execution_count": 32,
     "metadata": {},
     "output_type": "execute_result"
    }
   ],
   "source": [
    "planet + ' is the ' + str(position) + 'th planet'"
   ]
  },
  {
   "cell_type": "markdown",
   "id": "21100acc",
   "metadata": {},
   "source": [
    "<font size = \"5\">`.format()`<font size = \"4\"> is an easier way to build and concatenate strings. </font>"
   ]
  },
  {
   "cell_type": "code",
   "execution_count": 33,
   "id": "3d75517a",
   "metadata": {},
   "outputs": [
    {
     "data": {
      "text/plain": [
       "'Pluto is the 9th planet'"
      ]
     },
     "execution_count": 33,
     "metadata": {},
     "output_type": "execute_result"
    }
   ],
   "source": [
    "'{} is the {}th planet'.format(planet, position)"
   ]
  },
  {
   "cell_type": "code",
   "execution_count": 34,
   "id": "fe1ab453",
   "metadata": {},
   "outputs": [
    {
     "data": {
      "text/plain": [
       "\"Pluto weighs about 1.3e+22 kilograms (0.218% of Earth's mass). It is home to 52,910,390 Plutonians.\""
      ]
     },
     "execution_count": 34,
     "metadata": {},
     "output_type": "execute_result"
    }
   ],
   "source": [
    "pluto_mass = 1.303 * 10**22\n",
    "earth_mass = 5.9722 * 10**24\n",
    "population = 52910390\n",
    "\n",
    "#           2 decimal points;  3 decimal points, format as percent;  separate with commas\n",
    "\"{} weighs about {:.2} kilograms ({:.3%} of Earth's mass). It is home to {:,} Plutonians.\".format(\n",
    "    planet, pluto_mass, pluto_mass/earth_mass, population\n",
    ")"
   ]
  },
  {
   "cell_type": "code",
   "execution_count": 35,
   "id": "c896a625",
   "metadata": {},
   "outputs": [
    {
     "name": "stdout",
     "output_type": "stream",
     "text": [
      "Pluto's a planet.\n",
      "No, it's a dwarf planet.\n",
      "planet!\n",
      "dwarf planet!\n"
     ]
    }
   ],
   "source": [
    "# Referring to format() arguments by index, starting from 0\n",
    "\n",
    "str_pluto = \"\"\"Pluto's a {0}.\n",
    "No, it's a {1}.\n",
    "{0}!\n",
    "{1}!\"\"\".format('planet', 'dwarf planet')\n",
    "\n",
    "print(str_pluto)"
   ]
  },
  {
   "cell_type": "markdown",
   "id": "66186f75",
   "metadata": {},
   "source": [
    "<br><font size = \"6\" color = \"MediumBlue\"> <u>Dictionaries</u> </font>"
   ]
  },
  {
   "cell_type": "markdown",
   "id": "451a760a",
   "metadata": {},
   "source": [
    "<font size = \"4\"> Dictionaries are a built-in Python data structure for mapping keys to values. </font>"
   ]
  },
  {
   "cell_type": "code",
   "execution_count": 36,
   "id": "8cb83610",
   "metadata": {},
   "outputs": [
    {
     "data": {
      "text/plain": [
       "{'one': 1, 'two': 2, 'three': 3}"
      ]
     },
     "execution_count": 36,
     "metadata": {},
     "output_type": "execute_result"
    }
   ],
   "source": [
    "# In this case, 'one', 'two', and 'three' are the keys, with 1, 2, 3 being their corresponding values\n",
    "\n",
    "numbers = {'one':1, 'two':2, 'three':3}\n",
    "\n",
    "numbers"
   ]
  },
  {
   "cell_type": "code",
   "execution_count": 37,
   "id": "4cfd11d1",
   "metadata": {},
   "outputs": [
    {
     "data": {
      "text/plain": [
       "2"
      ]
     },
     "execution_count": 37,
     "metadata": {},
     "output_type": "execute_result"
    }
   ],
   "source": [
    "# Values are accessed via square bracket syntax\n",
    "numbers['two']"
   ]
  },
  {
   "cell_type": "code",
   "execution_count": 38,
   "id": "9723b374",
   "metadata": {},
   "outputs": [
    {
     "data": {
      "text/plain": [
       "{'one': 1, 'two': 2, 'three': 3, 'nine': 9, 'eleven': 11}"
      ]
     },
     "execution_count": 38,
     "metadata": {},
     "output_type": "execute_result"
    }
   ],
   "source": [
    "# Another key, value pair can be added like this\n",
    "numbers['nine'] = 9\n",
    "numbers['eleven'] = 11\n",
    "\n",
    "numbers"
   ]
  },
  {
   "cell_type": "code",
   "execution_count": 39,
   "id": "3f16d880",
   "metadata": {},
   "outputs": [
    {
     "data": {
      "text/plain": [
       "{'one': 1, 'two': 2, 'three': 3, 'nine': 'Pluto', 'eleven': 11}"
      ]
     },
     "execution_count": 39,
     "metadata": {},
     "output_type": "execute_result"
    }
   ],
   "source": [
    "# The value associated with an existing key can be changed like this\n",
    "numbers['nine'] = 'Pluto'\n",
    "\n",
    "numbers"
   ]
  },
  {
   "cell_type": "markdown",
   "id": "a1d4c495",
   "metadata": {},
   "source": [
    "<font size = \"5\"> <b>Dictionary Comprehensions</b> </font>"
   ]
  },
  {
   "cell_type": "code",
   "execution_count": 40,
   "id": "a4d98046",
   "metadata": {},
   "outputs": [
    {
     "data": {
      "text/plain": [
       "{'Mercury': 'M',\n",
       " 'Venus': 'V',\n",
       " 'Earth': 'E',\n",
       " 'Mars': 'M',\n",
       " 'Jupyter': 'J',\n",
       " 'Saturn': 'S',\n",
       " 'Uranus': 'U',\n",
       " 'Neptune': 'N',\n",
       " 'Pluto': 'P'}"
      ]
     },
     "execution_count": 40,
     "metadata": {},
     "output_type": "execute_result"
    }
   ],
   "source": [
    "planets = ['Mercury', 'Venus', 'Earth', 'Mars', 'Jupyter', 'Saturn', 'Uranus', 'Neptune', 'Pluto']\n",
    "\n",
    "planet_initial = {planet: planet[0] for planet in planets}\n",
    "\n",
    "planet_initial"
   ]
  },
  {
   "cell_type": "markdown",
   "id": "47d22c9c",
   "metadata": {},
   "source": [
    "<font size = \"4\">The <font size = \"5\">`in`<font size = \"4\"> operator checks if something is a key in the dictionary. </font>"
   ]
  },
  {
   "cell_type": "code",
   "execution_count": 41,
   "id": "8bd672fb",
   "metadata": {},
   "outputs": [
    {
     "data": {
      "text/plain": [
       "True"
      ]
     },
     "execution_count": 41,
     "metadata": {},
     "output_type": "execute_result"
    }
   ],
   "source": [
    "'Earth' in planet_initial"
   ]
  },
  {
   "cell_type": "code",
   "execution_count": 42,
   "id": "2311c767",
   "metadata": {},
   "outputs": [
    {
     "data": {
      "text/plain": [
       "False"
      ]
     },
     "execution_count": 42,
     "metadata": {},
     "output_type": "execute_result"
    }
   ],
   "source": [
    "'Jupiter' in planet_initial"
   ]
  },
  {
   "cell_type": "markdown",
   "id": "c202e7d6",
   "metadata": {},
   "source": [
    "<font size = \"4\"> A for loop over a dictionary will loop over its keys. </font>"
   ]
  },
  {
   "cell_type": "code",
   "execution_count": 43,
   "id": "fcb014cd",
   "metadata": {},
   "outputs": [
    {
     "name": "stdout",
     "output_type": "stream",
     "text": [
      "one = 1\n",
      "two = 2\n",
      "three = 3\n",
      "nine = Pluto\n",
      "eleven = 11\n"
     ]
    }
   ],
   "source": [
    "for i in numbers:\n",
    "    print(\"{} = {}\".format(i, numbers[i]))"
   ]
  },
  {
   "cell_type": "markdown",
   "id": "dad05763",
   "metadata": {},
   "source": [
    "<font size = \"4\"> All the keys in a dictionary can be accessed with <font size = \"5\">`.keys`</font>"
   ]
  },
  {
   "cell_type": "code",
   "execution_count": 44,
   "id": "d746c539",
   "metadata": {
    "scrolled": false
   },
   "outputs": [
    {
     "data": {
      "text/plain": [
       "dict_keys(['one', 'two', 'three', 'nine', 'eleven'])"
      ]
     },
     "execution_count": 44,
     "metadata": {},
     "output_type": "execute_result"
    }
   ],
   "source": [
    "numbers.keys()"
   ]
  },
  {
   "cell_type": "markdown",
   "id": "fbaed71a",
   "metadata": {},
   "source": [
    "<font size = \"4\"> and all the values in a dictionary can be accessed with <font size = \"5\">`.values()`</font>"
   ]
  },
  {
   "cell_type": "code",
   "execution_count": 45,
   "id": "af4c8893",
   "metadata": {},
   "outputs": [
    {
     "data": {
      "text/plain": [
       "dict_values([1, 2, 3, 'Pluto', 11])"
      ]
     },
     "execution_count": 45,
     "metadata": {},
     "output_type": "execute_result"
    }
   ],
   "source": [
    "numbers.values()"
   ]
  },
  {
   "cell_type": "markdown",
   "id": "2699b11f",
   "metadata": {},
   "source": [
    "<font size = \"4\"> <br>Get all the initials of the planets, sort them alphabetically, and put them in a space-separated string :</font>"
   ]
  },
  {
   "cell_type": "code",
   "execution_count": 46,
   "id": "ec000958",
   "metadata": {},
   "outputs": [
    {
     "data": {
      "text/plain": [
       "'E J M M N P S U V'"
      ]
     },
     "execution_count": 46,
     "metadata": {},
     "output_type": "execute_result"
    }
   ],
   "source": [
    "' '.join(sorted(planet_initial.values()))"
   ]
  },
  {
   "cell_type": "markdown",
   "id": "946bacb7",
   "metadata": {},
   "source": [
    "<font size = \"4\"> <br><font size = \"5\">`.items()`<font size = \"4\"> method lets us iterate over both the keys and values of a dictionary simultaneously. <br>(In Python jargon, an item refers to a key, value pair) </font>"
   ]
  },
  {
   "cell_type": "code",
   "execution_count": 47,
   "id": "4f9bef83",
   "metadata": {},
   "outputs": [
    {
     "name": "stdout",
     "output_type": "stream",
     "text": [
      "Mercury begins with \"M\"\n",
      "Venus begins with \"V\"\n",
      "Earth begins with \"E\"\n",
      "Mars begins with \"M\"\n",
      "Jupyter begins with \"J\"\n",
      "Saturn begins with \"S\"\n",
      "Uranus begins with \"U\"\n",
      "Neptune begins with \"N\"\n",
      "Pluto begins with \"P\"\n",
      "\n",
      "\n",
      "   Mercury begins with \"M\"\n",
      "     Venus begins with \"V\"\n",
      "     Earth begins with \"E\"\n",
      "      Mars begins with \"M\"\n",
      "   Jupyter begins with \"J\"\n",
      "    Saturn begins with \"S\"\n",
      "    Uranus begins with \"U\"\n",
      "   Neptune begins with \"N\"\n",
      "     Pluto begins with \"P\"\n"
     ]
    }
   ],
   "source": [
    "for planet, initial in planet_initial.items():\n",
    "    print('{} begins with \"{}\"'.format(planet, initial))\n",
    "    \n",
    "print('\\n')\n",
    "\n",
    "for planet, initial in planet_initial.items():\n",
    "                                            # rjust() right aligns the string\n",
    "    print('{} begins with \"{}\"'.format(planet.rjust(10), initial))"
   ]
  }
 ],
 "metadata": {
  "kernelspec": {
   "display_name": "Python 3 (ipykernel)",
   "language": "python",
   "name": "python3"
  },
  "language_info": {
   "codemirror_mode": {
    "name": "ipython",
    "version": 3
   },
   "file_extension": ".py",
   "mimetype": "text/x-python",
   "name": "python",
   "nbconvert_exporter": "python",
   "pygments_lexer": "ipython3",
   "version": "3.10.10"
  }
 },
 "nbformat": 4,
 "nbformat_minor": 5
}
