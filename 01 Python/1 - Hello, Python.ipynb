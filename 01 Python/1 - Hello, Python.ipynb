{
 "cells": [
  {
   "cell_type": "markdown",
   "id": "9528ddc6",
   "metadata": {},
   "source": [
    "<font size = \"6\"> <a href = \"https://www.kaggle.com/code/colinmorris/hello-python\">Hello, Python</a> </font>"
   ]
  },
  {
   "cell_type": "code",
   "execution_count": 1,
   "id": "db462a6f",
   "metadata": {},
   "outputs": [
    {
     "name": "stdout",
     "output_type": "stream",
     "text": [
      "5\n",
      "4.4\n"
     ]
    }
   ],
   "source": [
    "A = 5\n",
    "print(A)\n",
    "\n",
    "B = 4.4\n",
    "print(B)"
   ]
  },
  {
   "cell_type": "markdown",
   "id": "f8fe2f2d",
   "metadata": {},
   "source": [
    "<font size = \"4\"> Single quotes can be used for enclosing strings in Python, unless the string includes any quotes like in \n",
    "<font size = \"5\">`don't`</font>"
   ]
  },
  {
   "cell_type": "code",
   "execution_count": 2,
   "id": "eab440a3",
   "metadata": {},
   "outputs": [
    {
     "name": "stdout",
     "output_type": "stream",
     "text": [
      "don't box\n"
     ]
    }
   ],
   "source": [
    "C = 'box'\n",
    "D = \"don't\"\n",
    "print(D, C)"
   ]
  },
  {
   "cell_type": "markdown",
   "id": "fbf8158d",
   "metadata": {},
   "source": [
    "<font size = \"4\"> In Python, you can multiply a string by an integer </font>"
   ]
  },
  {
   "cell_type": "code",
   "execution_count": 3,
   "id": "a02905d1",
   "metadata": {},
   "outputs": [
    {
     "name": "stdout",
     "output_type": "stream",
     "text": [
      "boxboxbox\n",
      "box box box \n"
     ]
    }
   ],
   "source": [
    "box3 = C * 3\n",
    "print(box3)\n",
    "\n",
    "box3 = (C + ' ') * 3\n",
    "print(box3)"
   ]
  },
  {
   "cell_type": "markdown",
   "id": "8a906c28",
   "metadata": {},
   "source": [
    "<font size = \"5\">`type(variable_name)`<font size = \"4\"> function to check what data type something is </font>"
   ]
  },
  {
   "cell_type": "code",
   "execution_count": 4,
   "id": "a456a613",
   "metadata": {},
   "outputs": [
    {
     "name": "stdout",
     "output_type": "stream",
     "text": [
      "<class 'int'>\n",
      "<class 'float'>\n",
      "<class 'str'>\n"
     ]
    }
   ],
   "source": [
    "print(type(A))\n",
    "print(type(B))\n",
    "print(type(C))"
   ]
  },
  {
   "cell_type": "markdown",
   "id": "837d273d",
   "metadata": {},
   "source": [
    "<font size = \"5\"> <b> <u>Interesting Python Arithmetic Operators</u> </b> </font>"
   ]
  },
  {
   "cell_type": "code",
   "execution_count": 5,
   "id": "c135b693",
   "metadata": {},
   "outputs": [],
   "source": [
    "a, b = 5, 2"
   ]
  },
  {
   "cell_type": "markdown",
   "id": "5e21c36a",
   "metadata": {},
   "source": [
    "<font size = \"4\"> <b> Floor division </b> \n",
    "<font size = \"5\">`//`<br>\n",
    "<font size = \"4\">  Returns quotient, removes fractional part </font>"
   ]
  },
  {
   "cell_type": "code",
   "execution_count": 6,
   "id": "099b40e1",
   "metadata": {},
   "outputs": [
    {
     "name": "stdout",
     "output_type": "stream",
     "text": [
      "2.5\n",
      "2\n"
     ]
    }
   ],
   "source": [
    "division = a / b\n",
    "print(division)\n",
    "\n",
    "floor_division = a // b\n",
    "print(floor_division)"
   ]
  },
  {
   "cell_type": "markdown",
   "id": "73299079",
   "metadata": {},
   "source": [
    "<font size = \"4\"> <b> Exponentiation </b> <font size = \"5\">`**`"
   ]
  },
  {
   "cell_type": "code",
   "execution_count": 7,
   "id": "11021756",
   "metadata": {},
   "outputs": [
    {
     "name": "stdout",
     "output_type": "stream",
     "text": [
      "25\n",
      "32\n"
     ]
    }
   ],
   "source": [
    "exponentiation1 = a ** b\n",
    "print(exponentiation1)\n",
    "\n",
    "exponentiation2 = b ** a\n",
    "print(exponentiation2)"
   ]
  },
  {
   "cell_type": "markdown",
   "id": "73030924",
   "metadata": {},
   "source": [
    "<font size = \"5\">`min`<font size = \"4\"> and <font size = \"5\">`max`<font size = \"4\"> functions </font>"
   ]
  },
  {
   "cell_type": "code",
   "execution_count": 8,
   "id": "989b4278",
   "metadata": {},
   "outputs": [
    {
     "name": "stdout",
     "output_type": "stream",
     "text": [
      "-4\n",
      "9\n"
     ]
    }
   ],
   "source": [
    "print(min(2, 0, 4, -4, 8, 9))\n",
    "print(max(2, 0, 4, -4, 8, 9))"
   ]
  },
  {
   "cell_type": "markdown",
   "id": "adc627fe",
   "metadata": {},
   "source": [
    "<font size = \"5\">`abs`<font size = \"4\"> returns the absolute value of an argument </font> "
   ]
  },
  {
   "cell_type": "code",
   "execution_count": 9,
   "id": "5fe6ade5",
   "metadata": {},
   "outputs": [
    {
     "name": "stdout",
     "output_type": "stream",
     "text": [
      "32\n"
     ]
    }
   ],
   "source": [
    "print(abs(-32))"
   ]
  },
  {
   "cell_type": "markdown",
   "id": "08e2b0eb",
   "metadata": {},
   "source": [
    "<font size = \"5\"> <b> <u>Type-casting in Python</u> </b> </font>"
   ]
  },
  {
   "cell_type": "code",
   "execution_count": 10,
   "id": "14db0215",
   "metadata": {},
   "outputs": [
    {
     "name": "stdout",
     "output_type": "stream",
     "text": [
      "10\n",
      "<class 'int'>\n",
      "10.0\n",
      "<class 'float'>\n"
     ]
    }
   ],
   "source": [
    "a = 10\n",
    "print(a)\n",
    "print(type(a))\n",
    "\n",
    "a = float(a)\n",
    "print(a)\n",
    "print(type(a))"
   ]
  },
  {
   "cell_type": "code",
   "execution_count": 11,
   "id": "515174fe",
   "metadata": {},
   "outputs": [
    {
     "name": "stdout",
     "output_type": "stream",
     "text": [
      "11.7\n",
      "<class 'float'>\n",
      "11\n",
      "<class 'int'>\n"
     ]
    }
   ],
   "source": [
    "a = 11.7\n",
    "print(a)\n",
    "print(type(a))\n",
    "\n",
    "print(int(a))\n",
    "print(type(int(a)))"
   ]
  },
  {
   "cell_type": "code",
   "execution_count": 12,
   "id": "128b7ea9",
   "metadata": {},
   "outputs": [
    {
     "name": "stdout",
     "output_type": "stream",
     "text": [
      "807\n",
      "<class 'str'>\n",
      "808\n",
      "<class 'int'>\n"
     ]
    }
   ],
   "source": [
    "a = '807'\n",
    "print(a)\n",
    "print(type(a))\n",
    "\n",
    "print(int(a) + 1)\n",
    "print(type(int(a) + 1))"
   ]
  },
  {
   "cell_type": "markdown",
   "id": "2696e564",
   "metadata": {},
   "source": [
    "<font size = \"5\"> <b> <u>Python shorthand for swapping values</u> </b> </font>"
   ]
  },
  {
   "cell_type": "code",
   "execution_count": 13,
   "id": "0f897138",
   "metadata": {},
   "outputs": [
    {
     "name": "stdout",
     "output_type": "stream",
     "text": [
      "1 2\n",
      "2 1\n",
      "5 10 15\n",
      "10 5 15\n"
     ]
    }
   ],
   "source": [
    "a, b = 1, 2\n",
    "print(a, b)\n",
    "\n",
    "a, b = b, a\n",
    "print(a, b)\n",
    "\n",
    "a, b, c = 5, 10, 15\n",
    "print(a, b, c)\n",
    "\n",
    "a, b, c = b, a, c\n",
    "print(a, b, c)"
   ]
  },
  {
   "cell_type": "markdown",
   "id": "4b09b35a",
   "metadata": {},
   "source": [
    "<font size = \"6\"> `pass` <font size = \"5\"> <b> <u>placeholder in Python</u> </b> </font>"
   ]
  },
  {
   "cell_type": "markdown",
   "id": "7f48973c",
   "metadata": {},
   "source": [
    "<font size = \"5\"> `pass` <font size = \"4\"> is used as a placeholder for future code. <br> Nothing happens when a <font size = \"5\"> `pass` <font size = \"4\"> statement is executed, but it avoids errors when empty code is not allowed. </font>"
   ]
  },
  {
   "cell_type": "code",
   "execution_count": 14,
   "id": "0818a606",
   "metadata": {},
   "outputs": [],
   "source": [
    "def empty_function():\n",
    "    pass"
   ]
  },
  {
   "cell_type": "code",
   "execution_count": 15,
   "id": "a3c5de6b",
   "metadata": {},
   "outputs": [
    {
     "ename": "SyntaxError",
     "evalue": "incomplete input (1113705288.py, line 1)",
     "output_type": "error",
     "traceback": [
      "\u001b[1;36m  Cell \u001b[1;32mIn[15], line 1\u001b[1;36m\u001b[0m\n\u001b[1;33m    def empty_function():\u001b[0m\n\u001b[1;37m                         ^\u001b[0m\n\u001b[1;31mSyntaxError\u001b[0m\u001b[1;31m:\u001b[0m incomplete input\n"
     ]
    }
   ],
   "source": [
    "def empty_function():"
   ]
  },
  {
   "cell_type": "code",
   "execution_count": 16,
   "id": "7e5c8f70",
   "metadata": {},
   "outputs": [],
   "source": [
    "if (True):\n",
    "    pass\n",
    "else:\n",
    "    pass"
   ]
  },
  {
   "cell_type": "code",
   "execution_count": 17,
   "id": "a4391e5b",
   "metadata": {},
   "outputs": [
    {
     "ename": "SyntaxError",
     "evalue": "incomplete input (3579285049.py, line 1)",
     "output_type": "error",
     "traceback": [
      "\u001b[1;36m  Cell \u001b[1;32mIn[17], line 1\u001b[1;36m\u001b[0m\n\u001b[1;33m    if (True):\u001b[0m\n\u001b[1;37m              ^\u001b[0m\n\u001b[1;31mSyntaxError\u001b[0m\u001b[1;31m:\u001b[0m incomplete input\n"
     ]
    }
   ],
   "source": [
    "if (True):"
   ]
  },
  {
   "cell_type": "code",
   "execution_count": 18,
   "id": "94c3dbdd",
   "metadata": {},
   "outputs": [
    {
     "ename": "SyntaxError",
     "evalue": "incomplete input (2557096635.py, line 3)",
     "output_type": "error",
     "traceback": [
      "\u001b[1;36m  Cell \u001b[1;32mIn[18], line 3\u001b[1;36m\u001b[0m\n\u001b[1;33m    else:\u001b[0m\n\u001b[1;37m         ^\u001b[0m\n\u001b[1;31mSyntaxError\u001b[0m\u001b[1;31m:\u001b[0m incomplete input\n"
     ]
    }
   ],
   "source": [
    "if (True):\n",
    "    pass\n",
    "else:"
   ]
  }
 ],
 "metadata": {
  "kernelspec": {
   "display_name": "Python 3 (ipykernel)",
   "language": "python",
   "name": "python3"
  },
  "language_info": {
   "codemirror_mode": {
    "name": "ipython",
    "version": 3
   },
   "file_extension": ".py",
   "mimetype": "text/x-python",
   "name": "python",
   "nbconvert_exporter": "python",
   "pygments_lexer": "ipython3",
   "version": "3.10.10"
  }
 },
 "nbformat": 4,
 "nbformat_minor": 5
}
