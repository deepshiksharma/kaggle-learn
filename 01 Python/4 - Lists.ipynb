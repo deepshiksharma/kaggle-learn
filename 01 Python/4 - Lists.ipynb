{
 "cells": [
  {
   "cell_type": "markdown",
   "id": "815c7c0e",
   "metadata": {},
   "source": [
    "<font size = \"6\"> <a href = \"https://www.kaggle.com/code/colinmorris/lists\">Lists</a> </font>"
   ]
  },
  {
   "cell_type": "code",
   "execution_count": 1,
   "id": "b5dfe4be",
   "metadata": {},
   "outputs": [
    {
     "name": "stdout",
     "output_type": "stream",
     "text": [
      "[1, 2, 3, 4, 5]\n",
      "4\n"
     ]
    }
   ],
   "source": [
    "A = [1, 2, 3, 4, 5]\n",
    "\n",
    "print(A)\n",
    "\n",
    "print(A[3])"
   ]
  },
  {
   "cell_type": "code",
   "execution_count": 2,
   "id": "df600a2d",
   "metadata": {},
   "outputs": [
    {
     "name": "stdout",
     "output_type": "stream",
     "text": [
      "['one', 'two', 'three', 'four', 'five']\n",
      "five\n"
     ]
    }
   ],
   "source": [
    "B = ['one', 'two', 'three', 'four', 'five']\n",
    "\n",
    "print(B)\n",
    "\n",
    "print(B[4])"
   ]
  },
  {
   "cell_type": "markdown",
   "id": "7d991d4a",
   "metadata": {},
   "source": [
    "<font size = \"4\"> Python lists are unlike arrays because they can store elements of different data types in the same list! </font>"
   ]
  },
  {
   "cell_type": "code",
   "execution_count": 3,
   "id": "8c149022",
   "metadata": {
    "scrolled": true
   },
   "outputs": [
    {
     "name": "stdout",
     "output_type": "stream",
     "text": [
      "[1, 'two', 'list C huh?', True] \n",
      "\n",
      "<class 'int'> \t 1\n",
      "<class 'str'> \t two\n",
      "<class 'str'> \t list C huh?\n",
      "<class 'bool'> \t True\n"
     ]
    }
   ],
   "source": [
    "C = [1, 'two', 'list C huh?', True]\n",
    "\n",
    "print(C, \"\\n\")\n",
    "\n",
    "for i in range(4):\n",
    "    print(type(C[i]), \"\\t\", C[i])\n",
    "    \n"
   ]
  },
  {
   "cell_type": "markdown",
   "id": "86245999",
   "metadata": {},
   "source": [
    "<font size = \"4\"> A multi-dimenstional list, a list of lists </font>"
   ]
  },
  {
   "cell_type": "code",
   "execution_count": 4,
   "id": "a591a79a",
   "metadata": {},
   "outputs": [
    {
     "name": "stdout",
     "output_type": "stream",
     "text": [
      "[[0, 1, 2], ['zero', 'one', 'two'], [False, True, True]] \n",
      "\n"
     ]
    }
   ],
   "source": [
    "D = [[0, 1, 2], ['zero', 'one', 'two'], [False, True, True]]\n",
    "print(D, \"\\n\")"
   ]
  },
  {
   "cell_type": "markdown",
   "id": "64a6d74f",
   "metadata": {},
   "source": [
    "<font size = \"4\"> A multi-dimensional list can also be written like this for better readability </font>"
   ]
  },
  {
   "cell_type": "code",
   "execution_count": 5,
   "id": "8af150e6",
   "metadata": {},
   "outputs": [
    {
     "name": "stdout",
     "output_type": "stream",
     "text": [
      "[[0, 1, 2], ['zero', 'one', 'two'], [False, True, True]]\n"
     ]
    }
   ],
   "source": [
    "D = [\n",
    "    [0, 1, 2],\n",
    "    ['zero', 'one', 'two'],\n",
    "    [False, True, True]\n",
    "]\n",
    "print(D)"
   ]
  },
  {
   "cell_type": "markdown",
   "id": "64daac1b",
   "metadata": {},
   "source": [
    "<font size = \"5\"> <b> Negative indexing </b> </font>"
   ]
  },
  {
   "cell_type": "markdown",
   "id": "90ca43e8",
   "metadata": {},
   "source": [
    "<font size = \"4\"> Negative indexing reads list elements backwards </font>"
   ]
  },
  {
   "cell_type": "code",
   "execution_count": 6,
   "id": "d2644687",
   "metadata": {},
   "outputs": [
    {
     "name": "stdout",
     "output_type": "stream",
     "text": [
      "[7, 'eight', 9, True] \n",
      "\n",
      "True 9 eight 7\n"
     ]
    }
   ],
   "source": [
    "E = [7, \"eight\", 9, True]\n",
    "\n",
    "print(E, \"\\n\")\n",
    "\n",
    "print(E[-1], E[-2], E[-3], E[-4])"
   ]
  },
  {
   "cell_type": "markdown",
   "id": "60e2eb54",
   "metadata": {},
   "source": [
    "<font size = \"5\"> <b> Slicing </b> </font>"
   ]
  },
  {
   "cell_type": "code",
   "execution_count": 7,
   "id": "4519ee45",
   "metadata": {},
   "outputs": [],
   "source": [
    "planets = ['Mecury', 'Venus', 'Earth', 'Mars', 'Jupyter', 'Saturn', 'Uranus', 'Neptune', 'Pluto']"
   ]
  },
  {
   "cell_type": "markdown",
   "id": "677b6be3",
   "metadata": {},
   "source": [
    "<font size = \"4\"> What are the first 3 planets? </font>"
   ]
  },
  {
   "cell_type": "code",
   "execution_count": 8,
   "id": "1850eaa5",
   "metadata": {},
   "outputs": [
    {
     "data": {
      "text/plain": [
       "['Mecury', 'Venus', 'Earth']"
      ]
     },
     "execution_count": 8,
     "metadata": {},
     "output_type": "execute_result"
    }
   ],
   "source": [
    "planets[0 : 3]"
   ]
  },
  {
   "cell_type": "markdown",
   "id": "eafb695b",
   "metadata": {},
   "source": [
    "<font size = \"4\"> The starting and ending indices are both optional. </font>"
   ]
  },
  {
   "cell_type": "markdown",
   "id": "e0201529",
   "metadata": {},
   "source": [
    "<font size = \"4\"> If the first index is left out, it is assumed to be 0. <br>\n",
    "The first 3 planets can also be written like this : </font>"
   ]
  },
  {
   "cell_type": "code",
   "execution_count": 9,
   "id": "7fa7c74c",
   "metadata": {},
   "outputs": [
    {
     "data": {
      "text/plain": [
       "['Mecury', 'Venus', 'Earth']"
      ]
     },
     "execution_count": 9,
     "metadata": {},
     "output_type": "execute_result"
    }
   ],
   "source": [
    "planets[: 3]"
   ]
  },
  {
   "cell_type": "markdown",
   "id": "6c834038",
   "metadata": {},
   "source": [
    "<font size = \"4\"> If the last index is left out, it is assumed to be the length of the list. <br>\n",
    "The remaining 6 planets can be wrriten like this : </font>"
   ]
  },
  {
   "cell_type": "code",
   "execution_count": 10,
   "id": "95aff8a3",
   "metadata": {},
   "outputs": [
    {
     "data": {
      "text/plain": [
       "['Mars', 'Jupyter', 'Saturn', 'Uranus', 'Neptune', 'Pluto']"
      ]
     },
     "execution_count": 10,
     "metadata": {},
     "output_type": "execute_result"
    }
   ],
   "source": [
    "planets[3 :]"
   ]
  },
  {
   "cell_type": "markdown",
   "id": "22a0cf83",
   "metadata": {},
   "source": [
    "<font size = \"4\"> <b> Negative indexing can be used for slicing. <b> </font>"
   ]
  },
  {
   "cell_type": "code",
   "execution_count": 11,
   "id": "8c2ad48a",
   "metadata": {},
   "outputs": [
    {
     "data": {
      "text/plain": [
       "['Venus', 'Earth', 'Mars', 'Jupyter', 'Saturn', 'Uranus', 'Neptune']"
      ]
     },
     "execution_count": 11,
     "metadata": {},
     "output_type": "execute_result"
    }
   ],
   "source": [
    "# All planets except first and last\n",
    "planets[1 : -1]"
   ]
  },
  {
   "cell_type": "code",
   "execution_count": 12,
   "id": "ac526a03",
   "metadata": {},
   "outputs": [
    {
     "data": {
      "text/plain": [
       "['Uranus', 'Neptune', 'Pluto']"
      ]
     },
     "execution_count": 12,
     "metadata": {},
     "output_type": "execute_result"
    }
   ],
   "source": [
    "# Just last 3 planets\n",
    "planets[-3 : ]"
   ]
  },
  {
   "cell_type": "code",
   "execution_count": 13,
   "id": "a237af11",
   "metadata": {},
   "outputs": [
    {
     "data": {
      "text/plain": [
       "['Mecury', 'Venus', 'Earth', 'Mars', 'Jupyter', 'Saturn']"
      ]
     },
     "execution_count": 13,
     "metadata": {},
     "output_type": "execute_result"
    }
   ],
   "source": [
    "# All planets except the last 3\n",
    "planets[ : -3]"
   ]
  },
  {
   "cell_type": "markdown",
   "id": "5ea3d81a",
   "metadata": {},
   "source": [
    "<font size = \"5\"> <b> <u>Modifying (Mutating) Lists<u> </b> </font>"
   ]
  },
  {
   "cell_type": "code",
   "execution_count": 14,
   "id": "32abedec",
   "metadata": {},
   "outputs": [
    {
     "data": {
      "text/plain": [
       "['Python', 'C', 'C++', 'C#']"
      ]
     },
     "execution_count": 14,
     "metadata": {},
     "output_type": "execute_result"
    }
   ],
   "source": [
    "languages = ['Python', 'C', 'C++', 'C#']\n",
    "languages"
   ]
  },
  {
   "cell_type": "code",
   "execution_count": 15,
   "id": "31e9fc50",
   "metadata": {},
   "outputs": [
    {
     "data": {
      "text/plain": [
       "['Python', 'C', 'C++', 'Java']"
      ]
     },
     "execution_count": 15,
     "metadata": {},
     "output_type": "execute_result"
    }
   ],
   "source": [
    "languages[3] = 'Java'\n",
    "languages"
   ]
  },
  {
   "cell_type": "code",
   "execution_count": 16,
   "id": "f00b0f7a",
   "metadata": {},
   "outputs": [
    {
     "data": {
      "text/plain": [
       "['Python', 'R', 'MATLAB', 'Java']"
      ]
     },
     "execution_count": 16,
     "metadata": {},
     "output_type": "execute_result"
    }
   ],
   "source": [
    "languages[1: 3] = ['R', 'MATLAB']\n",
    "languages"
   ]
  },
  {
   "cell_type": "markdown",
   "id": "dc594f50",
   "metadata": {},
   "source": [
    "<font size = \"5\"> <b> <u>List Functions<u> </b> </font>"
   ]
  },
  {
   "cell_type": "markdown",
   "id": "96f68f06",
   "metadata": {},
   "source": [
    "<font size = \"5\">`len`<font size = \"4\"> returns the length of a list </font>"
   ]
  },
  {
   "cell_type": "code",
   "execution_count": 17,
   "id": "b16913c5",
   "metadata": {},
   "outputs": [
    {
     "data": {
      "text/plain": [
       "9"
      ]
     },
     "execution_count": 17,
     "metadata": {},
     "output_type": "execute_result"
    }
   ],
   "source": [
    "len(planets)"
   ]
  },
  {
   "cell_type": "markdown",
   "id": "5168af56",
   "metadata": {},
   "source": [
    "<font size = \"5\">`sorted`<font size = \"4\"> returns the list after sorting </font>"
   ]
  },
  {
   "cell_type": "code",
   "execution_count": 18,
   "id": "3bf58927",
   "metadata": {},
   "outputs": [
    {
     "name": "stdout",
     "output_type": "stream",
     "text": [
      "['Earth', 'Jupyter', 'Mars', 'Mecury', 'Neptune', 'Pluto', 'Saturn', 'Uranus', 'Venus']\n"
     ]
    }
   ],
   "source": [
    "# Returns list sorted in alphabetical order\n",
    "print(sorted(planets))"
   ]
  },
  {
   "cell_type": "code",
   "execution_count": 19,
   "id": "8a85b43b",
   "metadata": {},
   "outputs": [
    {
     "data": {
      "text/plain": [
       "[1, 2, 3, 5, 6]"
      ]
     },
     "execution_count": 19,
     "metadata": {},
     "output_type": "execute_result"
    }
   ],
   "source": [
    "F = [5, 6, 1, 2, 3]\n",
    "sorted(F)"
   ]
  },
  {
   "cell_type": "markdown",
   "id": "79199aa2",
   "metadata": {},
   "source": [
    "<font size = \"5\">`sum`</font>"
   ]
  },
  {
   "cell_type": "code",
   "execution_count": 20,
   "id": "fdff7e84",
   "metadata": {},
   "outputs": [
    {
     "data": {
      "text/plain": [
       "17"
      ]
     },
     "execution_count": 20,
     "metadata": {},
     "output_type": "execute_result"
    }
   ],
   "source": [
    "sum(F)"
   ]
  },
  {
   "cell_type": "markdown",
   "id": "23ca6b0b",
   "metadata": {},
   "source": [
    "<font size = \"5\">`min`<font size = \"4\"> and <font size = \"5\">`max`"
   ]
  },
  {
   "cell_type": "code",
   "execution_count": 21,
   "id": "5d6801bc",
   "metadata": {},
   "outputs": [
    {
     "name": "stdout",
     "output_type": "stream",
     "text": [
      "1\n",
      "6\n"
     ]
    }
   ],
   "source": [
    "print(min(F))\n",
    "print(max(F))"
   ]
  },
  {
   "cell_type": "markdown",
   "id": "b2a5a431",
   "metadata": {},
   "source": [
    "<font size = \"5\"> <b> <u>List Methods<u> </b> </font>"
   ]
  },
  {
   "cell_type": "code",
   "execution_count": 22,
   "id": "45abc2c9",
   "metadata": {},
   "outputs": [
    {
     "data": {
      "text/plain": [
       "['Monday', 'Tuesday', 'Wednesday', 'Thursday', 'Friday', 'Saturday']"
      ]
     },
     "execution_count": 22,
     "metadata": {},
     "output_type": "execute_result"
    }
   ],
   "source": [
    "days = ['Monday', 'Tuesday', 'Wednesday', 'Thursday', 'Friday', 'Saturday']\n",
    "days"
   ]
  },
  {
   "cell_type": "markdown",
   "id": "4f11f463",
   "metadata": {},
   "source": [
    "<font size = \"5\">`list.append()`<font size = \"4\"> adds an element to the end of the list"
   ]
  },
  {
   "cell_type": "code",
   "execution_count": 23,
   "id": "9b0f6324",
   "metadata": {},
   "outputs": [
    {
     "data": {
      "text/plain": [
       "['Monday', 'Tuesday', 'Wednesday', 'Thursday', 'Friday', 'Saturday', 'Sunday']"
      ]
     },
     "execution_count": 23,
     "metadata": {},
     "output_type": "execute_result"
    }
   ],
   "source": [
    "days.append('Sunday')\n",
    "days"
   ]
  },
  {
   "cell_type": "markdown",
   "id": "4e0ef7f3",
   "metadata": {},
   "source": [
    "<font size = \"5\">`list.pop()`<font size = \"4\"> removes and returns the last element of the list"
   ]
  },
  {
   "cell_type": "code",
   "execution_count": 24,
   "id": "e650bb7a",
   "metadata": {},
   "outputs": [
    {
     "data": {
      "text/plain": [
       "['Monday', 'Tuesday', 'Wednesday', 'Thursday', 'Friday', 'Saturday']"
      ]
     },
     "execution_count": 24,
     "metadata": {},
     "output_type": "execute_result"
    }
   ],
   "source": [
    "days.pop()\n",
    "days"
   ]
  },
  {
   "cell_type": "code",
   "execution_count": 25,
   "id": "4869403f",
   "metadata": {},
   "outputs": [
    {
     "name": "stdout",
     "output_type": "stream",
     "text": [
      "Saturday\n"
     ]
    },
    {
     "data": {
      "text/plain": [
       "['Monday', 'Tuesday', 'Wednesday', 'Thursday', 'Friday']"
      ]
     },
     "execution_count": 25,
     "metadata": {},
     "output_type": "execute_result"
    }
   ],
   "source": [
    "print(days.pop())\n",
    "days"
   ]
  },
  {
   "cell_type": "markdown",
   "id": "fdc0ca3c",
   "metadata": {},
   "source": [
    "<font size = \"5\"> <b> <u>Searching Lists</u> </b> </font>"
   ]
  },
  {
   "cell_type": "markdown",
   "id": "260fbedd",
   "metadata": {},
   "source": [
    "<font size = \"4\">A list element's index can be found by using the <font size = \"5\">`list.index()`<font size = \"4\"> method </font>"
   ]
  },
  {
   "cell_type": "code",
   "execution_count": 26,
   "id": "9a8f7c5a",
   "metadata": {},
   "outputs": [
    {
     "data": {
      "text/plain": [
       "2"
      ]
     },
     "execution_count": 26,
     "metadata": {},
     "output_type": "execute_result"
    }
   ],
   "source": [
    "# Searching for Earth\n",
    "planets.index('Earth')"
   ]
  },
  {
   "cell_type": "code",
   "execution_count": 27,
   "id": "6efb7149",
   "metadata": {},
   "outputs": [
    {
     "ename": "ValueError",
     "evalue": "'Jupiter' is not in list",
     "output_type": "error",
     "traceback": [
      "\u001b[1;31m---------------------------------------------------------------------------\u001b[0m",
      "\u001b[1;31mValueError\u001b[0m                                Traceback (most recent call last)",
      "Cell \u001b[1;32mIn[27], line 2\u001b[0m\n\u001b[0;32m      1\u001b[0m \u001b[38;5;66;03m# Searching for Jupiter\u001b[39;00m\n\u001b[1;32m----> 2\u001b[0m \u001b[43mplanets\u001b[49m\u001b[38;5;241;43m.\u001b[39;49m\u001b[43mindex\u001b[49m\u001b[43m(\u001b[49m\u001b[38;5;124;43m'\u001b[39;49m\u001b[38;5;124;43mJupiter\u001b[39;49m\u001b[38;5;124;43m'\u001b[39;49m\u001b[43m)\u001b[49m\n",
      "\u001b[1;31mValueError\u001b[0m: 'Jupiter' is not in list"
     ]
    }
   ],
   "source": [
    "# Searching for Jupiter\n",
    "planets.index('Jupiter')"
   ]
  },
  {
   "cell_type": "markdown",
   "id": "666afc61",
   "metadata": {},
   "source": [
    "<font size = \"4\"> To avoid errors like above, we can check if a list contains a certain element or not by using the \n",
    "<font size = \"5\">`in`<font size = \"4\"> operator </font>"
   ]
  },
  {
   "cell_type": "code",
   "execution_count": 28,
   "id": "efeebe75",
   "metadata": {},
   "outputs": [
    {
     "data": {
      "text/plain": [
       "False"
      ]
     },
     "execution_count": 28,
     "metadata": {},
     "output_type": "execute_result"
    }
   ],
   "source": [
    "'Jupiter' in planets"
   ]
  },
  {
   "cell_type": "code",
   "execution_count": 29,
   "id": "edca11c3",
   "metadata": {},
   "outputs": [
    {
     "data": {
      "text/plain": [
       "True"
      ]
     },
     "execution_count": 29,
     "metadata": {},
     "output_type": "execute_result"
    }
   ],
   "source": [
    "'Jupyter' in planets"
   ]
  },
  {
   "cell_type": "markdown",
   "id": "034b6109",
   "metadata": {},
   "source": [
    "<font size = \"6\" color = \"MediumBlue\"> <u>Tuples</u> </font>"
   ]
  },
  {
   "cell_type": "markdown",
   "id": "5330b56d",
   "metadata": {},
   "source": [
    "<font size = \"4\"> Tuples are almost exactly like sets, but they differ in two ways. <p> 1. The syntax for creating tuples uses parentheses instead of square brackets <br> 2. Tuples are immutable (CANNOT be modified) </font>"
   ]
  },
  {
   "cell_type": "code",
   "execution_count": 30,
   "id": "84b766b4",
   "metadata": {},
   "outputs": [
    {
     "data": {
      "text/plain": [
       "(1, 2, 3)"
      ]
     },
     "execution_count": 30,
     "metadata": {},
     "output_type": "execute_result"
    }
   ],
   "source": [
    "# A tuple is creating using parentheses\n",
    "t1 = (1, 2, 3)\n",
    "t1"
   ]
  },
  {
   "cell_type": "code",
   "execution_count": 31,
   "id": "3533196a",
   "metadata": {},
   "outputs": [
    {
     "data": {
      "text/plain": [
       "(1, 2, 3)"
      ]
     },
     "execution_count": 31,
     "metadata": {},
     "output_type": "execute_result"
    }
   ],
   "source": [
    "# Equivalent to the above way of creating a tuple\n",
    "t2 = 1, 2, 3\n",
    "t2"
   ]
  },
  {
   "cell_type": "code",
   "execution_count": 32,
   "id": "82e77321",
   "metadata": {},
   "outputs": [
    {
     "ename": "TypeError",
     "evalue": "'tuple' object does not support item assignment",
     "output_type": "error",
     "traceback": [
      "\u001b[1;31m---------------------------------------------------------------------------\u001b[0m",
      "\u001b[1;31mTypeError\u001b[0m                                 Traceback (most recent call last)",
      "Cell \u001b[1;32mIn[32], line 2\u001b[0m\n\u001b[0;32m      1\u001b[0m \u001b[38;5;66;03m# Tuples CANNOT be mutated\u001b[39;00m\n\u001b[1;32m----> 2\u001b[0m \u001b[43mt2\u001b[49m\u001b[43m[\u001b[49m\u001b[38;5;241;43m0\u001b[39;49m\u001b[43m]\u001b[49m \u001b[38;5;241m=\u001b[39m \u001b[38;5;241m100\u001b[39m\n",
      "\u001b[1;31mTypeError\u001b[0m: 'tuple' object does not support item assignment"
     ]
    }
   ],
   "source": [
    "# Tuples CANNOT be mutated\n",
    "t2[0] = 100"
   ]
  },
  {
   "cell_type": "markdown",
   "id": "78b92d8e",
   "metadata": {},
   "source": [
    "<font size = \"4\"> Tuples are often used for functions that have multiple return values. <br>\n",
    "For example, <br> the <font size = \"5\">`as_integer_ratio()`<font size = \"4\"> method of float objects returns a numerator and a denominator in the form of a tuple : </font>"
   ]
  },
  {
   "cell_type": "code",
   "execution_count": 33,
   "id": "5c7a4927",
   "metadata": {},
   "outputs": [
    {
     "data": {
      "text/plain": [
       "(1, 4)"
      ]
     },
     "execution_count": 33,
     "metadata": {},
     "output_type": "execute_result"
    }
   ],
   "source": [
    "x = 0.25\n",
    "x.as_integer_ratio()"
   ]
  },
  {
   "cell_type": "markdown",
   "id": "bc97300c",
   "metadata": {},
   "source": [
    "<font size = \"4\"> These multiple return values can also be individually assigned </font>"
   ]
  },
  {
   "cell_type": "code",
   "execution_count": 34,
   "id": "64f961ab",
   "metadata": {},
   "outputs": [
    {
     "name": "stdout",
     "output_type": "stream",
     "text": [
      "1\n",
      "4\n"
     ]
    }
   ],
   "source": [
    "numerator, denominator = x.as_integer_ratio()\n",
    "\n",
    "print(numerator)\n",
    "print(denominator)"
   ]
  }
 ],
 "metadata": {
  "kernelspec": {
   "display_name": "Python 3 (ipykernel)",
   "language": "python",
   "name": "python3"
  },
  "language_info": {
   "codemirror_mode": {
    "name": "ipython",
    "version": 3
   },
   "file_extension": ".py",
   "mimetype": "text/x-python",
   "name": "python",
   "nbconvert_exporter": "python",
   "pygments_lexer": "ipython3",
   "version": "3.10.10"
  }
 },
 "nbformat": 4,
 "nbformat_minor": 5
}
