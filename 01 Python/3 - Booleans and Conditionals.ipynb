{
 "cells": [
  {
   "cell_type": "markdown",
   "id": "375a8f8c",
   "metadata": {},
   "source": [
    "<font size = \"6\"> <a href = \"https://www.kaggle.com/code/colinmorris/booleans-and-conditionals\">Booleans and Conditionals</a> </font>"
   ]
  },
  {
   "cell_type": "code",
   "execution_count": 1,
   "id": "33ff3fac",
   "metadata": {},
   "outputs": [
    {
     "name": "stdout",
     "output_type": "stream",
     "text": [
      "True\n",
      "<class 'bool'>\n"
     ]
    }
   ],
   "source": [
    "x = True\n",
    "print(x)\n",
    "print(type(x))"
   ]
  },
  {
   "cell_type": "markdown",
   "id": "e286ecd4",
   "metadata": {},
   "source": [
    "<font size = \"5\"> <b>Boolean type conversion</b> </font>"
   ]
  },
  {
   "cell_type": "markdown",
   "id": "4801f3d6",
   "metadata": {},
   "source": [
    "<font size = \"4\"> all numbers are treated as <font size = \"5\">`True`<font size = \"4\">, except for 0 </font>"
   ]
  },
  {
   "cell_type": "code",
   "execution_count": 2,
   "id": "8b42c36f",
   "metadata": {},
   "outputs": [
    {
     "name": "stdout",
     "output_type": "stream",
     "text": [
      "True\n",
      "False\n",
      "True\n"
     ]
    }
   ],
   "source": [
    "print(bool(-4))\n",
    "print(bool(0))\n",
    "print(bool(2))"
   ]
  },
  {
   "cell_type": "markdown",
   "id": "f7e79be4",
   "metadata": {},
   "source": [
    "<font size = \"4\"> all strings are treated as <font size = \"5\">`True`<font size = \"4\">, except for empty strings </font>"
   ]
  },
  {
   "cell_type": "code",
   "execution_count": 3,
   "id": "17f63a27",
   "metadata": {},
   "outputs": [
    {
     "name": "stdout",
     "output_type": "stream",
     "text": [
      "True\n",
      "True\n",
      "False\n"
     ]
    }
   ],
   "source": [
    "print(bool('boxenstopp!'))\n",
    "print(bool('a'))\n",
    "print(bool(''))"
   ]
  },
  {
   "cell_type": "markdown",
   "id": "5eeed223",
   "metadata": {},
   "source": [
    "<font size = \"5\">`True`<font size = \"4\"> booleans will be converted into <font size = \"5\">`1`<font size = \"4\"> when type-casted into an <font size = \"5\">`int`<font size = \"4\"> <br>\n",
    "<font size = \"5\">`False`<font size = \"4\"> booleans will be converted into <font size = \"5\">`0`<font size = \"4\"> when type-casted into an <font size = \"5\">`int`</font>"
   ]
  },
  {
   "cell_type": "code",
   "execution_count": 4,
   "id": "963c883e",
   "metadata": {},
   "outputs": [
    {
     "name": "stdout",
     "output_type": "stream",
     "text": [
      "1\n",
      "0\n"
     ]
    }
   ],
   "source": [
    "x, y = True, False\n",
    "\n",
    "print(int(x))\n",
    "print(int(y))"
   ]
  },
  {
   "cell_type": "code",
   "execution_count": 5,
   "id": "22a2f02e",
   "metadata": {},
   "outputs": [
    {
     "name": "stdout",
     "output_type": "stream",
     "text": [
      "2\n"
     ]
    }
   ],
   "source": [
    "x, y, z = True, False, True\n",
    "print(x + y + z)"
   ]
  },
  {
   "cell_type": "markdown",
   "id": "0643080a",
   "metadata": {},
   "source": [
    "<font size = \"4\"> Python will implicity treat non-boolean objects in conditionals (and other places where a bool is expected) as their corresponding boolean value. </font>"
   ]
  },
  {
   "cell_type": "code",
   "execution_count": 6,
   "id": "ff620f9a",
   "metadata": {},
   "outputs": [
    {
     "name": "stdout",
     "output_type": "stream",
     "text": [
      "-4 is true\n"
     ]
    }
   ],
   "source": [
    "if 0:\n",
    "    print(\"0 is false\")\n",
    "elif -4:\n",
    "    print(\"-4 is true\")\n",
    "else:\n",
    "    print(\"box box box\")"
   ]
  },
  {
   "cell_type": "code",
   "execution_count": 7,
   "id": "1e2d57b6",
   "metadata": {},
   "outputs": [
    {
     "name": "stdout",
     "output_type": "stream",
     "text": [
      "'a' is true\n"
     ]
    }
   ],
   "source": [
    "if '':\n",
    "    print(\"'' is false\")\n",
    "elif 'a':\n",
    "    print(\"'a' is true\")\n",
    "else:\n",
    "    print(\"box box box\")"
   ]
  }
 ],
 "metadata": {
  "kernelspec": {
   "display_name": "Python 3 (ipykernel)",
   "language": "python",
   "name": "python3"
  },
  "language_info": {
   "codemirror_mode": {
    "name": "ipython",
    "version": 3
   },
   "file_extension": ".py",
   "mimetype": "text/x-python",
   "name": "python",
   "nbconvert_exporter": "python",
   "pygments_lexer": "ipython3",
   "version": "3.10.10"
  }
 },
 "nbformat": 4,
 "nbformat_minor": 5
}
